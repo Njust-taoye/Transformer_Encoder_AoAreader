{
 "cells": [
  {
   "cell_type": "code",
   "execution_count": 1,
   "metadata": {},
   "outputs": [],
   "source": [
    "import aoareader as reader\n",
    "import torch\n",
    "import time\n",
    "import argparse"
   ]
  },
  {
   "cell_type": "code",
   "execution_count": 4,
   "metadata": {},
   "outputs": [],
   "source": []
  },
  {
   "cell_type": "code",
   "execution_count": 2,
   "metadata": {
    "scrolled": true
   },
   "outputs": [],
   "source": [
    "vocab_dict = torch.load('data/dict.pt')\n",
    "train_data= torch.load('data/train.txt.pt')\n",
    "valid_data=torch.load('data/dev.txt.pt')\n",
    "train_dataset = reader.Dataset(train_data, 32, True)\n",
    "valid_dataset = reader.Dataset(valid_data, 32, True, volatile=True)"
   ]
  },
  {
   "cell_type": "code",
   "execution_count": 3,
   "metadata": {},
   "outputs": [
    {
     "name": "stdout",
     "output_type": "stream",
     "text": [
      "torch.Size([414])\n",
      "torch.Size([24])\n",
      "tensor(6669)\n",
      "tensor([ 357,  641, 1085, 2887, 3024, 5467, 6361, 6669, 8641, 9207])\n"
     ]
    },
    {
     "data": {
      "text/plain": [
       "dict_keys(['documents', 'querys', 'answers', 'candidates'])"
      ]
     },
     "execution_count": 3,
     "metadata": {},
     "output_type": "execute_result"
    }
   ],
   "source": [
    "print(train_data['documents'][0].size())\n",
    "print(train_data['querys'][0].size())\n",
    "print(train_data['answers'][0])\n",
    "print(train_data['candidates'][0])\n",
    "train_data.keys()"
   ]
  },
  {
   "cell_type": "code",
   "execution_count": 4,
   "metadata": {},
   "outputs": [
    {
     "name": "stderr",
     "output_type": "stream",
     "text": [
      "/home/ttnguyen/anaconda3/envs/py36torch/lib/python3.6/site-packages/torch/nn/modules/rnn.py:38: UserWarning: dropout option adds dropout after all but last recurrent layer, so non-zero dropout expects num_layers greater than 1, but got dropout=0.1 and num_layers=1\n",
      "  \"num_layers={}\".format(dropout, num_layers))\n",
      "/home/ttnguyen/Projects/AoAreader/aoareader/AoAReader.py:56: UserWarning: nn.init.orthogonal is now deprecated in favor of nn.init.orthogonal_.\n",
      "  weigth_init.orthogonal(weight.data)\n"
     ]
    }
   ],
   "source": [
    "model = reader.AoAReader(vocab_dict, dropout_rate=0.1, embed_dim=384, hidden_dim=384)"
   ]
  },
  {
   "cell_type": "code",
   "execution_count": 5,
   "metadata": {
    "scrolled": true
   },
   "outputs": [
    {
     "data": {
      "text/plain": [
       "AoAReader(\n",
       "  (embedding): Embedding(9631, 384, padding_idx=0)\n",
       "  (gru): GRU(384, 384, batch_first=True, dropout=0.1, bidirectional=True)\n",
       ")"
      ]
     },
     "execution_count": 5,
     "metadata": {},
     "output_type": "execute_result"
    }
   ],
   "source": [
    "model.cuda()"
   ]
  },
  {
   "cell_type": "code",
   "execution_count": 6,
   "metadata": {},
   "outputs": [
    {
     "name": "stdout",
     "output_type": "stream",
     "text": [
      "tensor([[9473,  308, 2888,  ...,    0,    0,    0],\n",
      "        [9473,  308, 2888,  ...,    0,    0,    0],\n",
      "        [9473,  308, 2888,  ...,    0,    0,    0],\n",
      "        ...,\n",
      "        [5818,   16, 4416,  ...,    0,    0,    0],\n",
      "        [5818,   16, 4416,  ...,    0,    0,    0],\n",
      "        [  85, 9619, 3777,  ..., 1602,    2,    6]], device='cuda:0')\n",
      "tensor([[6943, 8520, 9588,  ...,    0,    0,    0],\n",
      "        [6943, 8520, 6669,  ...,    0,    0,    0],\n",
      "        [6943, 8520, 6669,  ...,    0,    0,    0],\n",
      "        ...,\n",
      "        [ 391, 5108, 4168,  ..., 1602,    2,    6],\n",
      "        [ 391, 5108, 4168,  ..., 1602,    2,    6],\n",
      "        [8568, 9588,   12,  ...,    0,    0,    0]], device='cuda:0')\n",
      "tensor([6669, 4715,  600, 4715, 1085, 3024, 6669, 3024, 3045, 4715, 3777, 5134,\n",
      "        6669, 3024, 3024, 4715, 6669, 4715, 6669, 4715, 3024, 6669, 3024, 3024,\n",
      "        4715, 4715, 5729,  641, 3024, 3026, 8552, 3026], device='cuda:0')\n",
      "tensor([[ 357,  641, 1085, 2887, 3024, 5467, 6361, 6669, 8641, 9207],\n",
      "        [ 600,  641, 4715, 5424, 5467, 5769, 6492, 7948, 8602, 8641],\n",
      "        [ 357,  600, 1037, 1115, 1373, 1504, 2888, 5134, 6669, 8552],\n",
      "        [ 600, 1043, 1085, 1367, 1373, 1500, 3777, 4715, 5424, 6361],\n",
      "        [ 600, 1043, 1085, 1115, 1367, 3351, 4785, 5467, 6361, 6492],\n",
      "        [1085, 1115, 1961, 3024, 4785, 5769, 6111, 6191, 7135, 9207],\n",
      "        [ 473,  600, 1043, 1373, 4785, 6111, 6158, 6361, 6669, 7135],\n",
      "        [6111, 1115, 1367, 1500, 3024, 3045, 6191, 6669, 7135, 8641],\n",
      "        [1373, 2887, 3045, 3351, 4785, 5769, 6111, 7135, 8227, 9274],\n",
      "        [2887, 6111, 1367, 1373, 4715, 4785, 5424, 6361, 7135, 8227],\n",
      "        [ 473,  600, 1955, 3777, 4715, 5220, 6111, 6191, 6361, 8602],\n",
      "        [2887, 6111, 1085, 1373, 3024, 3045, 4715, 5134, 6669, 9207],\n",
      "        [2887, 4345,  600, 1085, 1373, 5220, 5766, 5769, 6669, 9274],\n",
      "        [2887,  409, 1085, 1955, 3024, 3777, 4044, 5729, 5766, 6669],\n",
      "        [2887, 1085, 3024, 4722, 5134, 5729, 5766, 5769, 8227, 9274],\n",
      "        [1085, 1373, 3045, 4044, 4715, 4781, 5683, 5766, 6038, 8227],\n",
      "        [ 600, 3469, 4715, 4781, 5674, 5729, 5766, 6505, 6669, 8552],\n",
      "        [4345,  409,  600, 1306, 3777, 4715, 5674, 5682, 5683, 8227],\n",
      "        [4345,  409, 1306, 3892, 5682, 5766, 6260, 6669, 8227, 9274],\n",
      "        [2781, 3655, 4044, 4715, 6010, 6011, 6038, 6505, 7207, 7383],\n",
      "        [ 264,  641, 2266, 3024, 3469, 3777, 4715, 5134, 5859, 8552],\n",
      "        [1306, 2266, 4044, 4997, 5220, 5682, 6011, 6260, 6669, 7207],\n",
      "        [ 264, 2781, 3024, 3469, 3655, 4722, 5674, 5683, 6010, 6505],\n",
      "        [ 264, 1306, 2996, 3024, 3777, 4722, 4997, 5683, 6260, 7868],\n",
      "        [4345, 3024, 3320, 3777, 4044, 4715, 5134, 5679, 6505, 7874],\n",
      "        [ 409, 3026, 3320, 3777, 4715, 5674, 6010, 6011, 6505, 6669],\n",
      "        [2266, 3024, 3320, 3655, 4715, 4997, 5729, 6038, 6505, 8552],\n",
      "        [ 641, 1955, 3024, 3045, 5134, 5683, 5729, 6011, 7383, 7874],\n",
      "        [1955, 3024, 3892, 5706, 6010, 6505, 6669, 7207, 7868, 8397],\n",
      "        [1043, 2380, 3026, 3320, 3892, 3950, 5859, 5989, 6260, 6669],\n",
      "        [1955, 2266, 5134, 5674, 5682, 5729, 5989, 6455, 6629, 8552],\n",
      "        [ 641, 1306, 1955, 3026, 3320, 4997, 5674, 5683, 7874, 8552]],\n",
      "       device='cuda:0')\n"
     ]
    }
   ],
   "source": [
    "(batch_docs, batch_docs_len, doc_mask), (batch_querys, batch_querys_len, query_mask), batch_answers, candidates = train_dataset[0]\n",
    "print(batch_docs)\n",
    "print(batch_querys)\n",
    "print(batch_answers)\n",
    "print(candidates)"
   ]
  },
  {
   "cell_type": "code",
   "execution_count": 7,
   "metadata": {},
   "outputs": [
    {
     "name": "stdout",
     "output_type": "stream",
     "text": [
      "tensor([6669, 4715, 6669, 4715, 6492, 6111, 6669, 6669, 6111, 4715, 4715, 4715,\n",
      "        6669, 6669, 3024, 4715, 6669, 4715, 6669, 4715, 4715, 6669, 3024, 3024,\n",
      "        3024, 6669, 4715, 3024, 3024, 6669, 5729, 8552], device='cuda:0')\n",
      "torch.Size([32])\n",
      "tensor([0.0098, 0.0121, 0.0024, 0.0142, 0.0024, 0.0048, 0.0078, 0.0027, 0.0059,\n",
      "        0.0118, 0.0030, 0.0032, 0.0111, 0.0067, 0.0100, 0.0091, 0.0092, 0.0111,\n",
      "        0.0083, 0.0089, 0.0090, 0.0115, 0.0113, 0.0111, 0.0110, 0.0110, 0.0026,\n",
      "        0.0026, 0.0131, 0.0023, 0.0023, 0.0043],\n",
      "       device='cuda:0', grad_fn=<SqueezeBackward0>)\n",
      "torch.Size([32])\n"
     ]
    }
   ],
   "source": [
    "pred_answers, answer_probs = model(batch_docs, batch_docs_len, doc_mask, batch_querys, batch_querys_len, query_mask,answers=batch_answers, candidates=candidates)\n",
    "print(pred_answers)\n",
    "print(pred_answers.size())\n",
    "print(answer_probs)\n",
    "print(answer_probs.size())\n"
   ]
  },
  {
   "cell_type": "code",
   "execution_count": 8,
   "metadata": {},
   "outputs": [
    {
     "name": "stdout",
     "output_type": "stream",
     "text": [
      "tensor([5.0364], device='cuda:0', grad_fn=<NegBackward>)\n",
      "tensor(16, device='cuda:0')\n"
     ]
    },
    {
     "name": "stderr",
     "output_type": "stream",
     "text": [
      "/home/ttnguyen/anaconda3/envs/py36torch/lib/python3.6/site-packages/ipykernel_launcher.py:2: UserWarning: invalid index of a 0-dim tensor. This will be an error in PyTorch 0.5. Use tensor.item() to convert a 0-dim tensor to a Python number\n",
      "  \n"
     ]
    }
   ],
   "source": [
    "def loss_func(answers, pred_answers, answer_probs):\n",
    "    num_correct = (answers == pred_answers).sum().squeeze().data[0]\n",
    "    loss = - torch.mean(torch.log(answer_probs),0, keepdim=True)\n",
    "    return loss.cuda(), num_correct\n",
    "\n",
    "loss, num_correct = loss_func(batch_answers, pred_answers, answer_probs)\n",
    "print(loss)\n",
    "print (num_correct)"
   ]
  }
 ],
 "metadata": {
  "anaconda-cloud": {},
  "kernelspec": {
   "display_name": "Python 3",
   "language": "python",
   "name": "python3"
  },
  "language_info": {
   "codemirror_mode": {
    "name": "ipython",
    "version": 3
   },
   "file_extension": ".py",
   "mimetype": "text/x-python",
   "name": "python",
   "nbconvert_exporter": "python",
   "pygments_lexer": "ipython3",
   "version": "3.6.6"
  }
 },
 "nbformat": 4,
 "nbformat_minor": 1
}
